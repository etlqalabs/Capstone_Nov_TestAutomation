{
 "cells": [
  {
   "cell_type": "code",
   "execution_count": 1,
   "id": "2b6c07bb",
   "metadata": {},
   "outputs": [],
   "source": [
    "import pandas as pd"
   ]
  },
  {
   "cell_type": "code",
   "execution_count": 29,
   "id": "ae1e590f",
   "metadata": {},
   "outputs": [],
   "source": [
    "df = pd.read_json(\"supplier_data.json\")"
   ]
  },
  {
   "cell_type": "code",
   "execution_count": 14,
   "id": "69466c48",
   "metadata": {},
   "outputs": [
    {
     "data": {
      "text/plain": [
       "True"
      ]
     },
     "execution_count": 14,
     "metadata": {},
     "output_type": "execute_result"
    }
   ],
   "source": [
    "df['supplier_id'].duplicated().any()"
   ]
  },
  {
   "cell_type": "code",
   "execution_count": 15,
   "id": "9cd28bf5",
   "metadata": {},
   "outputs": [],
   "source": [
    "column_name= 'supplier_id'"
   ]
  },
  {
   "cell_type": "code",
   "execution_count": 16,
   "id": "02be1b72",
   "metadata": {},
   "outputs": [
    {
     "data": {
      "text/plain": [
       "True"
      ]
     },
     "execution_count": 16,
     "metadata": {},
     "output_type": "execute_result"
    }
   ],
   "source": [
    "df[column_name].duplicated().any()"
   ]
  },
  {
   "cell_type": "code",
   "execution_count": 28,
   "id": "efa389a3",
   "metadata": {},
   "outputs": [
    {
     "data": {
      "text/plain": [
       "True"
      ]
     },
     "execution_count": 28,
     "metadata": {},
     "output_type": "execute_result"
    }
   ],
   "source": [
    "df.isnull().values.any()"
   ]
  },
  {
   "cell_type": "code",
   "execution_count": 30,
   "id": "6053c5b5",
   "metadata": {},
   "outputs": [
    {
     "data": {
      "text/html": [
       "<div>\n",
       "<style scoped>\n",
       "    .dataframe tbody tr th:only-of-type {\n",
       "        vertical-align: middle;\n",
       "    }\n",
       "\n",
       "    .dataframe tbody tr th {\n",
       "        vertical-align: top;\n",
       "    }\n",
       "\n",
       "    .dataframe thead th {\n",
       "        text-align: right;\n",
       "    }\n",
       "</style>\n",
       "<table border=\"1\" class=\"dataframe\">\n",
       "  <thead>\n",
       "    <tr style=\"text-align: right;\">\n",
       "      <th></th>\n",
       "      <th>supplier_id</th>\n",
       "      <th>supplier_name</th>\n",
       "      <th>contact_name</th>\n",
       "      <th>contact_email</th>\n",
       "      <th>contact_phone</th>\n",
       "      <th>country</th>\n",
       "      <th>rating</th>\n",
       "      <th>last_order_date</th>\n",
       "    </tr>\n",
       "  </thead>\n",
       "  <tbody>\n",
       "    <tr>\n",
       "      <th>0</th>\n",
       "      <td>1.0</td>\n",
       "      <td>ABC Distributors</td>\n",
       "      <td>John Doe</td>\n",
       "      <td>johndoe@abcdist.com</td>\n",
       "      <td>+1-555-0100</td>\n",
       "      <td>USA</td>\n",
       "      <td>4.8</td>\n",
       "      <td>2024-11-20</td>\n",
       "    </tr>\n",
       "    <tr>\n",
       "      <th>1</th>\n",
       "      <td>1.0</td>\n",
       "      <td>ABC Distributors</td>\n",
       "      <td>John Doe</td>\n",
       "      <td>johndoe@abcdist.com</td>\n",
       "      <td>+1-555-0100</td>\n",
       "      <td>USA</td>\n",
       "      <td>4.8</td>\n",
       "      <td>2024-11-20</td>\n",
       "    </tr>\n",
       "    <tr>\n",
       "      <th>2</th>\n",
       "      <td>2.0</td>\n",
       "      <td>Global Goods Inc.</td>\n",
       "      <td>Jane Smith</td>\n",
       "      <td>janesmith@globalgoods.com</td>\n",
       "      <td>+1-555-0200</td>\n",
       "      <td>Canada</td>\n",
       "      <td>4.3</td>\n",
       "      <td>2024-11-19</td>\n",
       "    </tr>\n",
       "    <tr>\n",
       "      <th>3</th>\n",
       "      <td>NaN</td>\n",
       "      <td>GreenTech Solutions</td>\n",
       "      <td>Robert Johnson</td>\n",
       "      <td>robert.johnson@greentech.com</td>\n",
       "      <td>+44-20-7946-0100</td>\n",
       "      <td>UK</td>\n",
       "      <td>4.6</td>\n",
       "      <td>2024-11-18</td>\n",
       "    </tr>\n",
       "    <tr>\n",
       "      <th>4</th>\n",
       "      <td>4.0</td>\n",
       "      <td>EuroWare</td>\n",
       "      <td>Emily White</td>\n",
       "      <td>emily.white@euro-ware.com</td>\n",
       "      <td>+49-30-9876-5432</td>\n",
       "      <td>Germany</td>\n",
       "      <td>4.2</td>\n",
       "      <td>2024-11-22</td>\n",
       "    </tr>\n",
       "    <tr>\n",
       "      <th>5</th>\n",
       "      <td>5.0</td>\n",
       "      <td>Pacific Products</td>\n",
       "      <td>Michael Brown</td>\n",
       "      <td>michael.brown@pacificproducts.com</td>\n",
       "      <td>+61-2-9345-6789</td>\n",
       "      <td>Australia</td>\n",
       "      <td>4.7</td>\n",
       "      <td>2024-11-17</td>\n",
       "    </tr>\n",
       "    <tr>\n",
       "      <th>6</th>\n",
       "      <td>6.0</td>\n",
       "      <td>Fresh Produce Co.</td>\n",
       "      <td>Sarah Taylor</td>\n",
       "      <td>sarah.taylor@freshproduce.com</td>\n",
       "      <td>+33-1-7035-6789</td>\n",
       "      <td>France</td>\n",
       "      <td>4.4</td>\n",
       "      <td>2024-11-21</td>\n",
       "    </tr>\n",
       "    <tr>\n",
       "      <th>7</th>\n",
       "      <td>7.0</td>\n",
       "      <td>TechCore Electronics</td>\n",
       "      <td>David Lee</td>\n",
       "      <td>david.lee@techcore.com</td>\n",
       "      <td>+81-3-4567-8901</td>\n",
       "      <td>Japan</td>\n",
       "      <td>4.9</td>\n",
       "      <td>2024-11-23</td>\n",
       "    </tr>\n",
       "    <tr>\n",
       "      <th>8</th>\n",
       "      <td>8.0</td>\n",
       "      <td>HanYang Trading</td>\n",
       "      <td>Laura King</td>\n",
       "      <td>laura.king@hanyang.com</td>\n",
       "      <td>+86-10-8888-7777</td>\n",
       "      <td>China</td>\n",
       "      <td>4.1</td>\n",
       "      <td>2024-11-16</td>\n",
       "    </tr>\n",
       "    <tr>\n",
       "      <th>9</th>\n",
       "      <td>9.0</td>\n",
       "      <td>Indo Supplies</td>\n",
       "      <td>James Williams</td>\n",
       "      <td>james@indosupplies.com</td>\n",
       "      <td>+91-22-2678-9101</td>\n",
       "      <td>India</td>\n",
       "      <td>4.3</td>\n",
       "      <td>2024-11-25</td>\n",
       "    </tr>\n",
       "    <tr>\n",
       "      <th>10</th>\n",
       "      <td>10.0</td>\n",
       "      <td>LatAm Imports</td>\n",
       "      <td>Olivia Harris</td>\n",
       "      <td>olivia.harris@latamimports.com</td>\n",
       "      <td>+52-55-2345-6789</td>\n",
       "      <td>Mexico</td>\n",
       "      <td>4.5</td>\n",
       "      <td>2024-11-20</td>\n",
       "    </tr>\n",
       "  </tbody>\n",
       "</table>\n",
       "</div>"
      ],
      "text/plain": [
       "    supplier_id         supplier_name    contact_name  \\\n",
       "0           1.0      ABC Distributors        John Doe   \n",
       "1           1.0      ABC Distributors        John Doe   \n",
       "2           2.0     Global Goods Inc.      Jane Smith   \n",
       "3           NaN   GreenTech Solutions  Robert Johnson   \n",
       "4           4.0              EuroWare     Emily White   \n",
       "5           5.0      Pacific Products   Michael Brown   \n",
       "6           6.0     Fresh Produce Co.    Sarah Taylor   \n",
       "7           7.0  TechCore Electronics       David Lee   \n",
       "8           8.0       HanYang Trading      Laura King   \n",
       "9           9.0         Indo Supplies  James Williams   \n",
       "10         10.0         LatAm Imports   Olivia Harris   \n",
       "\n",
       "                        contact_email     contact_phone    country  rating  \\\n",
       "0                 johndoe@abcdist.com       +1-555-0100        USA     4.8   \n",
       "1                 johndoe@abcdist.com       +1-555-0100        USA     4.8   \n",
       "2           janesmith@globalgoods.com       +1-555-0200     Canada     4.3   \n",
       "3        robert.johnson@greentech.com  +44-20-7946-0100         UK     4.6   \n",
       "4           emily.white@euro-ware.com  +49-30-9876-5432    Germany     4.2   \n",
       "5   michael.brown@pacificproducts.com   +61-2-9345-6789  Australia     4.7   \n",
       "6       sarah.taylor@freshproduce.com   +33-1-7035-6789     France     4.4   \n",
       "7              david.lee@techcore.com   +81-3-4567-8901      Japan     4.9   \n",
       "8              laura.king@hanyang.com  +86-10-8888-7777      China     4.1   \n",
       "9              james@indosupplies.com  +91-22-2678-9101      India     4.3   \n",
       "10     olivia.harris@latamimports.com  +52-55-2345-6789     Mexico     4.5   \n",
       "\n",
       "   last_order_date  \n",
       "0       2024-11-20  \n",
       "1       2024-11-20  \n",
       "2       2024-11-19  \n",
       "3       2024-11-18  \n",
       "4       2024-11-22  \n",
       "5       2024-11-17  \n",
       "6       2024-11-21  \n",
       "7       2024-11-23  \n",
       "8       2024-11-16  \n",
       "9       2024-11-25  \n",
       "10      2024-11-20  "
      ]
     },
     "execution_count": 30,
     "metadata": {},
     "output_type": "execute_result"
    }
   ],
   "source": [
    "df"
   ]
  },
  {
   "cell_type": "code",
   "execution_count": null,
   "id": "d67c4162",
   "metadata": {},
   "outputs": [],
   "source": []
  }
 ],
 "metadata": {
  "kernelspec": {
   "display_name": "Python 3 (ipykernel)",
   "language": "python",
   "name": "python3"
  },
  "language_info": {
   "codemirror_mode": {
    "name": "ipython",
    "version": 3
   },
   "file_extension": ".py",
   "mimetype": "text/x-python",
   "name": "python",
   "nbconvert_exporter": "python",
   "pygments_lexer": "ipython3",
   "version": "3.10.1"
  }
 },
 "nbformat": 4,
 "nbformat_minor": 5
}
